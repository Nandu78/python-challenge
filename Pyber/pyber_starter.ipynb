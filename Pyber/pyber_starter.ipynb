{
 "cells": [
  {
   "cell_type": "code",
   "execution_count": 1,
   "metadata": {},
   "outputs": [
    {
     "data": {
      "text/html": [
       "<div>\n",
       "<style scoped>\n",
       "    .dataframe tbody tr th:only-of-type {\n",
       "        vertical-align: middle;\n",
       "    }\n",
       "\n",
       "    .dataframe tbody tr th {\n",
       "        vertical-align: top;\n",
       "    }\n",
       "\n",
       "    .dataframe thead th {\n",
       "        text-align: right;\n",
       "    }\n",
       "</style>\n",
       "<table border=\"1\" class=\"dataframe\">\n",
       "  <thead>\n",
       "    <tr style=\"text-align: right;\">\n",
       "      <th></th>\n",
       "      <th>Number of Rides</th>\n",
       "    </tr>\n",
       "    <tr>\n",
       "      <th>city</th>\n",
       "      <th></th>\n",
       "    </tr>\n",
       "  </thead>\n",
       "  <tbody>\n",
       "    <tr>\n",
       "      <th>Amandaburgh</th>\n",
       "      <td>18</td>\n",
       "    </tr>\n",
       "    <tr>\n",
       "      <th>Barajasview</th>\n",
       "      <td>22</td>\n",
       "    </tr>\n",
       "    <tr>\n",
       "      <th>Barronchester</th>\n",
       "      <td>16</td>\n",
       "    </tr>\n",
       "    <tr>\n",
       "      <th>Bethanyland</th>\n",
       "      <td>18</td>\n",
       "    </tr>\n",
       "    <tr>\n",
       "      <th>Bradshawfurt</th>\n",
       "      <td>10</td>\n",
       "    </tr>\n",
       "  </tbody>\n",
       "</table>\n",
       "</div>"
      ],
      "text/plain": [
       "               Number of Rides\n",
       "city                          \n",
       "Amandaburgh                 18\n",
       "Barajasview                 22\n",
       "Barronchester               16\n",
       "Bethanyland                 18\n",
       "Bradshawfurt                10"
      ]
     },
     "execution_count": 1,
     "metadata": {},
     "output_type": "execute_result"
    }
   ],
   "source": [
    "%matplotlib inline\n",
    "# Dependencies and Setup\n",
    "import matplotlib.pyplot as plt\n",
    "import pandas as pd\n",
    "import numpy as np\n",
    "import matplotlib.patches as mpatches\n",
    "\n",
    "# File to Load (Remember to change these)\n",
    "city_data_to_load = \"data/city_data.csv\"\n",
    "ride_data_to_load = \"data/ride_data.csv\"\n",
    "\n",
    "# Read the City and Ride Data\n",
    "City_data = pd.read_csv(city_data_to_load)\n",
    "Ride_data = pd.read_csv(ride_data_to_load)\n",
    "\n",
    "# group ride data by city\n",
    "Ride_data_agg = pd.DataFrame({'Number of Rides' : Ride_data[[\"city\"]].copy().groupby(\"city\").size()})\n",
    "Ride_data_agg.head()\n",
    "\n",
    "# Display the data table for preview\n",
    "# City_data_merged.head()\n",
    "\n"
   ]
  },
  {
   "cell_type": "code",
   "execution_count": 2,
   "metadata": {},
   "outputs": [
    {
     "data": {
      "text/html": [
       "<div>\n",
       "<style scoped>\n",
       "    .dataframe tbody tr th:only-of-type {\n",
       "        vertical-align: middle;\n",
       "    }\n",
       "\n",
       "    .dataframe tbody tr th {\n",
       "        vertical-align: top;\n",
       "    }\n",
       "\n",
       "    .dataframe thead th {\n",
       "        text-align: right;\n",
       "    }\n",
       "</style>\n",
       "<table border=\"1\" class=\"dataframe\">\n",
       "  <thead>\n",
       "    <tr style=\"text-align: right;\">\n",
       "      <th></th>\n",
       "      <th>Number of Rides</th>\n",
       "      <th>Average fare</th>\n",
       "      <th>Total fare</th>\n",
       "    </tr>\n",
       "    <tr>\n",
       "      <th>city</th>\n",
       "      <th></th>\n",
       "      <th></th>\n",
       "      <th></th>\n",
       "    </tr>\n",
       "  </thead>\n",
       "  <tbody>\n",
       "    <tr>\n",
       "      <th>Amandaburgh</th>\n",
       "      <td>18</td>\n",
       "      <td>24.641667</td>\n",
       "      <td>443.55</td>\n",
       "    </tr>\n",
       "    <tr>\n",
       "      <th>Barajasview</th>\n",
       "      <td>22</td>\n",
       "      <td>25.332273</td>\n",
       "      <td>557.31</td>\n",
       "    </tr>\n",
       "    <tr>\n",
       "      <th>Barronchester</th>\n",
       "      <td>16</td>\n",
       "      <td>36.422500</td>\n",
       "      <td>582.76</td>\n",
       "    </tr>\n",
       "    <tr>\n",
       "      <th>Bethanyland</th>\n",
       "      <td>18</td>\n",
       "      <td>32.956111</td>\n",
       "      <td>593.21</td>\n",
       "    </tr>\n",
       "    <tr>\n",
       "      <th>Bradshawfurt</th>\n",
       "      <td>10</td>\n",
       "      <td>40.064000</td>\n",
       "      <td>400.64</td>\n",
       "    </tr>\n",
       "  </tbody>\n",
       "</table>\n",
       "</div>"
      ],
      "text/plain": [
       "               Number of Rides  Average fare  Total fare\n",
       "city                                                    \n",
       "Amandaburgh                 18     24.641667      443.55\n",
       "Barajasview                 22     25.332273      557.31\n",
       "Barronchester               16     36.422500      582.76\n",
       "Bethanyland                 18     32.956111      593.21\n",
       "Bradshawfurt                10     40.064000      400.64"
      ]
     },
     "execution_count": 2,
     "metadata": {},
     "output_type": "execute_result"
    }
   ],
   "source": [
    "#get average fair and total fare\n",
    "Ride_data.head()\n",
    "Ride_data_agg['Average fare'] = Ride_data[['city','fare']].copy().groupby('city')['fare'].mean()\n",
    "Ride_data_agg['Total fare'] = Ride_data[['city','fare']].copy().groupby('city')['fare'].sum()\n",
    "Ride_data_agg.head()"
   ]
  },
  {
   "cell_type": "code",
   "execution_count": 3,
   "metadata": {},
   "outputs": [
    {
     "data": {
      "text/html": [
       "<div>\n",
       "<style scoped>\n",
       "    .dataframe tbody tr th:only-of-type {\n",
       "        vertical-align: middle;\n",
       "    }\n",
       "\n",
       "    .dataframe tbody tr th {\n",
       "        vertical-align: top;\n",
       "    }\n",
       "\n",
       "    .dataframe thead th {\n",
       "        text-align: right;\n",
       "    }\n",
       "</style>\n",
       "<table border=\"1\" class=\"dataframe\">\n",
       "  <thead>\n",
       "    <tr style=\"text-align: right;\">\n",
       "      <th></th>\n",
       "      <th>city</th>\n",
       "      <th>Number of Rides</th>\n",
       "      <th>Average fare</th>\n",
       "      <th>Total fare</th>\n",
       "      <th>driver_count</th>\n",
       "      <th>type</th>\n",
       "    </tr>\n",
       "  </thead>\n",
       "  <tbody>\n",
       "    <tr>\n",
       "      <th>0</th>\n",
       "      <td>Amandaburgh</td>\n",
       "      <td>18</td>\n",
       "      <td>24.641667</td>\n",
       "      <td>443.55</td>\n",
       "      <td>12</td>\n",
       "      <td>Urban</td>\n",
       "    </tr>\n",
       "    <tr>\n",
       "      <th>83</th>\n",
       "      <td>Rodneyfort</td>\n",
       "      <td>23</td>\n",
       "      <td>28.616957</td>\n",
       "      <td>658.19</td>\n",
       "      <td>34</td>\n",
       "      <td>Urban</td>\n",
       "    </tr>\n",
       "    <tr>\n",
       "      <th>81</th>\n",
       "      <td>Roberthaven</td>\n",
       "      <td>24</td>\n",
       "      <td>23.729167</td>\n",
       "      <td>569.50</td>\n",
       "      <td>47</td>\n",
       "      <td>Urban</td>\n",
       "    </tr>\n",
       "    <tr>\n",
       "      <th>80</th>\n",
       "      <td>Richardfort</td>\n",
       "      <td>28</td>\n",
       "      <td>22.373214</td>\n",
       "      <td>626.45</td>\n",
       "      <td>38</td>\n",
       "      <td>Urban</td>\n",
       "    </tr>\n",
       "    <tr>\n",
       "      <th>79</th>\n",
       "      <td>Reynoldsfurt</td>\n",
       "      <td>19</td>\n",
       "      <td>21.919474</td>\n",
       "      <td>416.47</td>\n",
       "      <td>67</td>\n",
       "      <td>Urban</td>\n",
       "    </tr>\n",
       "  </tbody>\n",
       "</table>\n",
       "</div>"
      ],
      "text/plain": [
       "            city  Number of Rides  Average fare  Total fare  driver_count  \\\n",
       "0    Amandaburgh               18     24.641667      443.55            12   \n",
       "83    Rodneyfort               23     28.616957      658.19            34   \n",
       "81   Roberthaven               24     23.729167      569.50            47   \n",
       "80   Richardfort               28     22.373214      626.45            38   \n",
       "79  Reynoldsfurt               19     21.919474      416.47            67   \n",
       "\n",
       "     type  \n",
       "0   Urban  \n",
       "83  Urban  \n",
       "81  Urban  \n",
       "80  Urban  \n",
       "79  Urban  "
      ]
     },
     "execution_count": 3,
     "metadata": {},
     "output_type": "execute_result"
    }
   ],
   "source": [
    "# Combine the data into a single dataset\n",
    "City_data_merged = pd.merge(Ride_data_agg,City_data, how='outer',on='city')\n",
    "City_data_merged = City_data_merged.sort_values(by=['type'],ascending=False)\n",
    "City_data_merged.head()\n"
   ]
  },
  {
   "cell_type": "code",
   "execution_count": null,
   "metadata": {
    "scrolled": true
   },
   "outputs": [],
   "source": []
  },
  {
   "cell_type": "markdown",
   "metadata": {},
   "source": [
    "## Bubble Plot of Ride Sharing Data"
   ]
  },
  {
   "cell_type": "code",
   "execution_count": 4,
   "metadata": {},
   "outputs": [],
   "source": [
    "# Obtain the x and y coordinates for each of the three city types\n",
    "x_axis_urban = City_data_merged.loc[City_data_merged['type'] == 'Urban']['Number of Rides'].copy()\n",
    "y_axis_urban = City_data_merged.loc[City_data_merged['type'] == 'Urban']['Average fare'].copy()\n",
    "s_urban = City_data_merged.loc[City_data_merged['type'] == 'Urban']['driver_count'].copy()*10\n",
    "x_axis_rural = City_data_merged.loc[City_data_merged['type'] == 'Rural']['Number of Rides'].copy()\n",
    "y_axis_rural = City_data_merged.loc[City_data_merged['type'] == 'Rural']['Average fare'].copy()\n",
    "s_rural = City_data_merged.loc[City_data_merged['type'] == 'Rural']['driver_count'].copy()*10\n",
    "x_axis_suburban = City_data_merged.loc[City_data_merged['type'] == 'Suburban']['Number of Rides'].copy()\n",
    "y_axis_suburban = City_data_merged.loc[City_data_merged['type'] == 'Suburban']['Average fare'].copy()\n",
    "s_suburban = City_data_merged.loc[City_data_merged['type'] == 'Suburban']['driver_count'].copy()*10\n",
    "\n"
   ]
  },
  {
   "cell_type": "code",
   "execution_count": 44,
   "metadata": {},
   "outputs": [
    {
     "data": {
      "image/png": "[encoded data removed]",
      "text/plain": [
       "<Figure size 432x288 with 1 Axes>"
      ]
     },
     "metadata": {
      "needs_background": "light"
     },
     "output_type": "display_data"
    }
   ],
   "source": [
    "# Build the scatter plots for each city types\n",
    "urban = plt.scatter(x_axis_urban, y_axis_urban, marker=\"o\", \n",
    "                    color=\"coral\",s=s_urban,edgecolors=\"black\",alpha=0.75,label='Urban')\n",
    "rural = plt.scatter(x_axis_rural, y_axis_rural, marker=\"o\", \n",
    "                    color=\"gold\",s=s_rural,edgecolors=\"black\",alpha=0.75,label='Rural')\n",
    "suburban = plt.scatter(x_axis_suburban, y_axis_suburban, marker=\"o\", \n",
    "                       color=\"lightblue\",s=s_suburban,edgecolors=\"black\",alpha=0.75,label='Suburban')\n",
    "# Incorporate the other graph properties\n",
    "plt.xlabel('Total Number of Riders (per city)')\n",
    "plt.ylabel('Average Fare (s)')\n",
    "plt.title('Pyber rider sharing data(2016)')\n",
    "plt.grid(True)\n",
    "# Create a legend\n",
    "lg = plt.legend(scatterpoints=1,frameon=True, title='City Types',fontsize = (9))\n",
    "title = lg.get_title()\n",
    "title.set_fontsize(11)\n",
    "lg.legendHandles[0]._sizes=[30]\n",
    "lg.legendHandles[1]._sizes=[30]\n",
    "lg.legendHandles[2]._sizes=[30]\n",
    "\n",
    "# Incorporate a text label regarding circle size\n",
    "plt.text(42,35,'Note:')\n",
    "plt.text(42,34,'Circle size correlates with dirver count per city.')\n",
    "\n",
    "# Save Figure\n",
    "plt.savefig('pyber_scatterplot')"
   ]
  },
  {
   "cell_type": "code",
   "execution_count": 6,
   "metadata": {},
   "outputs": [
    {
     "data": {
      "text/plain": [
       "<Figure size 432x288 with 0 Axes>"
      ]
     },
     "metadata": {},
     "output_type": "display_data"
    }
   ],
   "source": [
    "# Show Figure\n",
    "plt.show()\n"
   ]
  },
  {
   "cell_type": "code",
   "execution_count": null,
   "metadata": {},
   "outputs": [],
   "source": []
  },
  {
   "cell_type": "markdown",
   "metadata": {},
   "source": [
    "## Total Fares by City Type"
   ]
  },
  {
   "cell_type": "code",
   "execution_count": 7,
   "metadata": {},
   "outputs": [
    {
     "data": {
      "text/html": [
       "<div>\n",
       "<style scoped>\n",
       "    .dataframe tbody tr th:only-of-type {\n",
       "        vertical-align: middle;\n",
       "    }\n",
       "\n",
       "    .dataframe tbody tr th {\n",
       "        vertical-align: top;\n",
       "    }\n",
       "\n",
       "    .dataframe thead th {\n",
       "        text-align: right;\n",
       "    }\n",
       "</style>\n",
       "<table border=\"1\" class=\"dataframe\">\n",
       "  <thead>\n",
       "    <tr style=\"text-align: right;\">\n",
       "      <th></th>\n",
       "      <th>Total fare</th>\n",
       "    </tr>\n",
       "    <tr>\n",
       "      <th>type</th>\n",
       "      <th></th>\n",
       "    </tr>\n",
       "  </thead>\n",
       "  <tbody>\n",
       "    <tr>\n",
       "      <th>Rural</th>\n",
       "      <td>4327.93</td>\n",
       "    </tr>\n",
       "    <tr>\n",
       "      <th>Suburban</th>\n",
       "      <td>19356.33</td>\n",
       "    </tr>\n",
       "    <tr>\n",
       "      <th>Urban</th>\n",
       "      <td>39854.38</td>\n",
       "    </tr>\n",
       "  </tbody>\n",
       "</table>\n",
       "</div>"
      ],
      "text/plain": [
       "          Total fare\n",
       "type                \n",
       "Rural        4327.93\n",
       "Suburban    19356.33\n",
       "Urban       39854.38"
      ]
     },
     "execution_count": 7,
     "metadata": {},
     "output_type": "execute_result"
    }
   ],
   "source": [
    "fare_by_city = pd.DataFrame({'Total fare' : \n",
    "                             City_data_merged[[\"type\",\"Total fare\"]].copy().groupby(\"type\")[\"Total fare\"].sum()})\n",
    "fare_by_city.head()"
   ]
  },
  {
   "cell_type": "code",
   "execution_count": 8,
   "metadata": {},
   "outputs": [],
   "source": [
    "# Calculate Type Percents\n",
    "fare_by_city[\"percentage fare by type\"] = 100 * (fare_by_city['Total fare'] / fare_by_city['Total fare'].sum())"
   ]
  },
  {
   "cell_type": "code",
   "execution_count": 9,
   "metadata": {},
   "outputs": [],
   "source": [
    "# reset index to move type to column from index\n",
    "fare_by_city = fare_by_city.reset_index()"
   ]
  },
  {
   "cell_type": "code",
   "execution_count": 10,
   "metadata": {},
   "outputs": [
    {
     "data": {
      "text/plain": [
       "[Text(0.5,1,'% of total fares by city type')]"
      ]
     },
     "execution_count": 10,
     "metadata": {},
     "output_type": "execute_result"
    },
    {
     "data": {
      "image/png": "[encoded data removed]",
      "text/plain": [
       "<Figure size 432x288 with 1 Axes>"
      ]
     },
     "metadata": {},
     "output_type": "display_data"
    }
   ],
   "source": [
    "# Build Pie Chart\n",
    "color = [ 'gold', 'lightblue', 'coral']\n",
    "explode = [0,0,.15]\n",
    "fig1, ax1 = plt.subplots()\n",
    "ax1.pie(fare_by_city['percentage fare by type'], labels=fare_by_city['type'],colors = color,\n",
    "         explode=explode, autopct=\"%1.1f%%\", shadow=True, startangle=140);\n",
    "ax1.set(title='% of total fares by city type')\n",
    "# plt.axis(\"equal\")"
   ]
  },
  {
   "cell_type": "code",
   "execution_count": 11,
   "metadata": {},
   "outputs": [],
   "source": [
    "# Save Figure\n",
    "fig1.savefig('percent_fare_by_city')"
   ]
  },
  {
   "cell_type": "code",
   "execution_count": 12,
   "metadata": {},
   "outputs": [],
   "source": [
    "# Show Figure\n",
    "plt.show()"
   ]
  },
  {
   "cell_type": "markdown",
   "metadata": {},
   "source": [
    "## Total Rides by City Type"
   ]
  },
  {
   "cell_type": "code",
   "execution_count": 13,
   "metadata": {},
   "outputs": [
    {
     "data": {
      "text/html": [
       "<div>\n",
       "<style scoped>\n",
       "    .dataframe tbody tr th:only-of-type {\n",
       "        vertical-align: middle;\n",
       "    }\n",
       "\n",
       "    .dataframe tbody tr th {\n",
       "        vertical-align: top;\n",
       "    }\n",
       "\n",
       "    .dataframe thead th {\n",
       "        text-align: right;\n",
       "    }\n",
       "</style>\n",
       "<table border=\"1\" class=\"dataframe\">\n",
       "  <thead>\n",
       "    <tr style=\"text-align: right;\">\n",
       "      <th></th>\n",
       "      <th>Total Rides</th>\n",
       "      <th>percentage rides by type</th>\n",
       "    </tr>\n",
       "    <tr>\n",
       "      <th>type</th>\n",
       "      <th></th>\n",
       "      <th></th>\n",
       "    </tr>\n",
       "  </thead>\n",
       "  <tbody>\n",
       "    <tr>\n",
       "      <th>Rural</th>\n",
       "      <td>125</td>\n",
       "      <td>5.263158</td>\n",
       "    </tr>\n",
       "    <tr>\n",
       "      <th>Suburban</th>\n",
       "      <td>625</td>\n",
       "      <td>26.315789</td>\n",
       "    </tr>\n",
       "    <tr>\n",
       "      <th>Urban</th>\n",
       "      <td>1625</td>\n",
       "      <td>68.421053</td>\n",
       "    </tr>\n",
       "  </tbody>\n",
       "</table>\n",
       "</div>"
      ],
      "text/plain": [
       "          Total Rides  percentage rides by type\n",
       "type                                           \n",
       "Rural             125                  5.263158\n",
       "Suburban          625                 26.315789\n",
       "Urban            1625                 68.421053"
      ]
     },
     "execution_count": 13,
     "metadata": {},
     "output_type": "execute_result"
    }
   ],
   "source": [
    "# Calculate Ride Percents\n",
    "rides_by_city = pd.DataFrame({'Total Rides' : \n",
    "                             City_data_merged[[\"type\",\"Number of Rides\"]].copy().groupby(\"type\")[\"Number of Rides\"].sum()})\n",
    "rides_by_city[\"percentage rides by type\"] = 100 * (rides_by_city['Total Rides'] / rides_by_city['Total Rides'].sum())\n",
    "rides_by_city.head()\n"
   ]
  },
  {
   "cell_type": "code",
   "execution_count": 14,
   "metadata": {},
   "outputs": [],
   "source": [
    "# reset index to move type to column from index\n",
    "rides_by_city = rides_by_city.reset_index()"
   ]
  },
  {
   "cell_type": "code",
   "execution_count": 15,
   "metadata": {},
   "outputs": [
    {
     "data": {
      "text/plain": [
       "[Text(0.5,1,'% of total rides by city type')]"
      ]
     },
     "execution_count": 15,
     "metadata": {},
     "output_type": "execute_result"
    },
    {
     "data": {
      "image/png": "[encoded data removed]",
      "text/plain": [
       "<Figure size 432x288 with 1 Axes>"
      ]
     },
     "metadata": {},
     "output_type": "display_data"
    }
   ],
   "source": [
    "# Build Pie Chart\n",
    "fig2, ax2 = plt.subplots()\n",
    "ax2.pie(rides_by_city['percentage rides by type'], labels=rides_by_city['type'],colors = color,\n",
    "         explode=explode, autopct=\"%1.1f%%\", shadow=True, startangle=140);\n",
    "ax2.set(title='% of total rides by city type')\n"
   ]
  },
  {
   "cell_type": "code",
   "execution_count": 16,
   "metadata": {},
   "outputs": [],
   "source": [
    "# Save Figure\n",
    "fig2.savefig('percent_rides_by_city')"
   ]
  },
  {
   "cell_type": "code",
   "execution_count": 17,
   "metadata": {},
   "outputs": [],
   "source": [
    "# Show Figure\n",
    "plt.show()"
   ]
  },
  {
   "cell_type": "markdown",
   "metadata": {},
   "source": [
    "## Total Drivers by City Type"
   ]
  },
  {
   "cell_type": "code",
   "execution_count": 18,
   "metadata": {},
   "outputs": [
    {
     "data": {
      "text/html": [
       "<div>\n",
       "<style scoped>\n",
       "    .dataframe tbody tr th:only-of-type {\n",
       "        vertical-align: middle;\n",
       "    }\n",
       "\n",
       "    .dataframe tbody tr th {\n",
       "        vertical-align: top;\n",
       "    }\n",
       "\n",
       "    .dataframe thead th {\n",
       "        text-align: right;\n",
       "    }\n",
       "</style>\n",
       "<table border=\"1\" class=\"dataframe\">\n",
       "  <thead>\n",
       "    <tr style=\"text-align: right;\">\n",
       "      <th></th>\n",
       "      <th>Total drivers</th>\n",
       "      <th>percentage drivers by type</th>\n",
       "    </tr>\n",
       "    <tr>\n",
       "      <th>type</th>\n",
       "      <th></th>\n",
       "      <th></th>\n",
       "    </tr>\n",
       "  </thead>\n",
       "  <tbody>\n",
       "    <tr>\n",
       "      <th>Rural</th>\n",
       "      <td>78</td>\n",
       "      <td>2.623613</td>\n",
       "    </tr>\n",
       "    <tr>\n",
       "      <th>Suburban</th>\n",
       "      <td>490</td>\n",
       "      <td>16.481668</td>\n",
       "    </tr>\n",
       "    <tr>\n",
       "      <th>Urban</th>\n",
       "      <td>2405</td>\n",
       "      <td>80.894719</td>\n",
       "    </tr>\n",
       "  </tbody>\n",
       "</table>\n",
       "</div>"
      ],
      "text/plain": [
       "          Total drivers  percentage drivers by type\n",
       "type                                               \n",
       "Rural                78                    2.623613\n",
       "Suburban            490                   16.481668\n",
       "Urban              2405                   80.894719"
      ]
     },
     "execution_count": 18,
     "metadata": {},
     "output_type": "execute_result"
    }
   ],
   "source": [
    "# Calculate Driver Percents\n",
    "drivers_by_city = pd.DataFrame({'Total drivers' : \n",
    "                             City_data_merged[[\"type\",\"driver_count\"]].copy().groupby(\"type\")[\"driver_count\"].sum()})\n",
    "drivers_by_city[\"percentage drivers by type\"] = 100 * (drivers_by_city['Total drivers'] / drivers_by_city['Total drivers'].sum())\n",
    "\n",
    "drivers_by_city.head()"
   ]
  },
  {
   "cell_type": "code",
   "execution_count": 19,
   "metadata": {},
   "outputs": [],
   "source": [
    "# reset index to move type to column from index\n",
    "drivers_by_city = drivers_by_city.reset_index()"
   ]
  },
  {
   "cell_type": "code",
   "execution_count": 20,
   "metadata": {},
   "outputs": [
    {
     "data": {
      "text/plain": [
       "[Text(0.5,1,'% of total drivers by city type')]"
      ]
     },
     "execution_count": 20,
     "metadata": {},
     "output_type": "execute_result"
    },
    {
     "data": {
      "image/png": "[encoded data removed]",
      "text/plain": [
       "<Figure size 432x288 with 1 Axes>"
      ]
     },
     "metadata": {},
     "output_type": "display_data"
    }
   ],
   "source": [
    "# Build Pie Chart\n",
    "fig3, ax3 = plt.subplots()\n",
    "ax3.pie(drivers_by_city['percentage drivers by type'], labels=drivers_by_city['type'],colors = color,\n",
    "         explode=explode, autopct=\"%1.1f%%\", shadow=True, startangle=140);\n",
    "ax3.set(title='% of total drivers by city type')"
   ]
  },
  {
   "cell_type": "code",
   "execution_count": 21,
   "metadata": {},
   "outputs": [],
   "source": [
    "# Save Figure\n",
    "fig3.savefig('percent_drivers_by_city')"
   ]
  },
  {
   "cell_type": "code",
   "execution_count": 22,
   "metadata": {
    "scrolled": true
   },
   "outputs": [],
   "source": [
    "# Show Figure\n",
    "plt.show()"
   ]
  },
  {
   "cell_type": "code",
   "execution_count": null,
   "metadata": {},
   "outputs": [],
   "source": []
  },
  {
   "cell_type": "code",
   "execution_count": null,
   "metadata": {},
   "outputs": [],
   "source": []
  }
 ],
 "metadata": {
  "anaconda-cloud": {},
  "kernelspec": {
   "display_name": "Python 3",
   "language": "python",
   "name": "python3"
  },
  "language_info": {
   "codemirror_mode": {
    "name": "ipython",
    "version": 3
   },
   "file_extension": ".py",
   "mimetype": "text/x-python",
   "name": "python",
   "nbconvert_exporter": "python",
   "pygments_lexer": "ipython3",
   "version": "3.7.0"
  }
 },
 "nbformat": 4,
 "nbformat_minor": 2
}
